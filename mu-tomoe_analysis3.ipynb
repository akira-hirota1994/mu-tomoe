{
 "cells": [
  {
   "cell_type": "code",
   "execution_count": 1,
   "metadata": {},
   "outputs": [
    {
     "name": "stdout",
     "output_type": "stream",
     "text": [
      "Complete!\n"
     ]
    }
   ],
   "source": [
    "import pandas as pd  #データの整理\n",
    "import numpy as np\n",
    "df_gaia = pd.read_csv(\"simultaneous_event_candidates_table_MU+Tomo-e9_gaia.csv\")\n",
    "df_ucac = pd.read_csv(\"simultaneous_event_candidates_table_MU+Tomo-e9_ucac.csv\")\n",
    "df_gaia = df_gaia.rename(columns={\"star_number\": \"star_number_gaia\"})\n",
    "df_gaia = df_gaia.rename(columns={\"zero_mag\": \"zero_mag_gaia\"})\n",
    "df_ucac = df_ucac.rename(columns={\"star_number\": \"star_number_ucac\"})\n",
    "df_ucac = df_ucac.rename(columns={\"zero_mag\": \"zero_mag_ucac\"})\n",
    "\n",
    "columns = df_gaia.columns\n",
    "df_gaia = df_gaia.values\n",
    "df_gaia = np.delete(df_gaia,np.arange(141),1)\n",
    "columns = np.delete(columns,np.arange(141))\n",
    "df_gaia = pd.DataFrame(data=df_gaia,columns=columns)\n",
    "df_concat = pd.concat([df_ucac, df_gaia], axis=1)\n",
    "columns_concat = df_concat.columns\n",
    "array_concat = df_concat.values\n",
    "\n",
    "for i in  range(len(columns)):  # IDの前にある不要カラムを削除\n",
    "    if columns_concat[i] == \"ID\":\n",
    "        delete_column = i\n",
    "array_concat = np.delete(array_concat,np.arange(delete_column),1)\n",
    "columns_concat = np.delete(columns_concat,np.arange(delete_column))\n",
    "\n",
    "### 14等級以上のものは一回リムーブ、IDをリチェックリストにして出す\n",
    "recheck_index = np.where(array_concat[:,-6]>14.)\n",
    "recheck_ID = array_concat[recheck_index,0]\n",
    "recheck_ID = recheck_ID.transpose()\n",
    "recheck_ID = recheck_ID.reshape(len(recheck_ID))\n",
    "array_concat = np.delete(array_concat,recheck_index,0)\n",
    "df_main = pd.DataFrame(data=array_concat,columns=columns_concat)\n",
    "with open(\"recheck_list.txt\", mode='w') as f:\n",
    "    f.write(\"G_Magnitudeが14以上のID\\n\")\n",
    "    for i in recheck_ID:\n",
    "        state = str(i) + \"\\n\"\n",
    "        f.write(state)\n",
    "\n",
    "df_main.to_csv(\"simultaneous_event_candidates_table_MU+Tomo-e10.csv\")\n",
    "print \"Complete!\""
   ]
  },
  {
   "cell_type": "code",
   "execution_count": null,
   "metadata": {},
   "outputs": [],
   "source": []
  }
 ],
 "metadata": {
  "kernelspec": {
   "display_name": "Python 2",
   "language": "python",
   "name": "python2"
  },
  "language_info": {
   "codemirror_mode": {
    "name": "ipython",
    "version": 2
   },
   "file_extension": ".py",
   "mimetype": "text/x-python",
   "name": "python",
   "nbconvert_exporter": "python",
   "pygments_lexer": "ipython2",
   "version": "2.7.10"
  }
 },
 "nbformat": 4,
 "nbformat_minor": 2
}
