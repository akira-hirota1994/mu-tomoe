{
 "cells": [
  {
   "cell_type": "code",
   "execution_count": 3,
   "metadata": {},
   "outputs": [
    {
     "name": "stdout",
     "output_type": "stream",
     "text": [
      "Complete!\n"
     ]
    }
   ],
   "source": [
    "import pandas as pd  #データの整理\n",
    "import numpy as np\n",
    "from scipy.optimize import curve_fit\n",
    "import matplotlib.pyplot as plt\n",
    "from matplotlib.backends.backend_pdf import PdfPages\n",
    "from IPython.display import clear_output\n",
    "\n",
    "df_gaia = pd.read_csv(\"simultaneous_event_candidates_table_MU+Tomo-e9_gaia.csv\")\n",
    "df_ucac = pd.read_csv(\"simultaneous_event_candidates_table_MU+Tomo-e9_ucac.csv\")\n",
    "df_gaia = df_gaia.rename(columns={\"star_number\": \"star_number_gaia\"})\n",
    "df_gaia = df_gaia.rename(columns={\"zero_mag\": \"zero_mag_gaia\"})\n",
    "df_ucac = df_ucac.rename(columns={\"star_number\": \"star_number_ucac\"})\n",
    "df_ucac = df_ucac.rename(columns={\"zero_mag\": \"zero_mag_ucac\"})\n",
    "\n",
    "columns = df_gaia.columns\n",
    "df_gaia = df_gaia.values\n",
    "df_gaia = np.delete(df_gaia,np.arange(141),1)\n",
    "columns = np.delete(columns,np.arange(141))\n",
    "df_gaia = pd.DataFrame(data=df_gaia,columns=columns)\n",
    "df_concat = pd.concat([df_ucac, df_gaia], axis=1)\n",
    "columns_concat = df_concat.columns\n",
    "array_concat = df_concat.values\n",
    "\n",
    "def gauss(x, A, mu, sigma):\n",
    "    return A / np.sqrt(2.0*np.pi) / sigma * np.exp(-((x-mu)/sigma)**2/2)\n",
    "\n",
    "for i in  range(len(columns)):  # IDの前にある不要カラムを削除\n",
    "    if columns_concat[i] == \"ID\":\n",
    "        delete_column = i\n",
    "array_concat = np.delete(array_concat,np.arange(delete_column),1)\n",
    "columns_concat = np.delete(columns_concat,np.arange(delete_column))\n",
    "\n",
    "### 14等級以上のものは一回リムーブ、IDをリチェックリストにして出す\n",
    "recheck_index = np.where(array_concat[:,-6]>14.)\n",
    "recheck_ID = array_concat[recheck_index,0]\n",
    "recheck_ID = recheck_ID.transpose()\n",
    "recheck_ID = recheck_ID.reshape(len(recheck_ID))\n",
    "array_concat = np.delete(array_concat,recheck_index,0)\n",
    "df_main = pd.DataFrame(data=array_concat,columns=columns_concat)\n",
    "with open(\"recheck_list.txt\", mode='w') as f:\n",
    "    f.write(\"G_Magnitudeが14以上のID\\n\")\n",
    "    for i in recheck_ID:\n",
    "        state = str(i) + \"\\n\"\n",
    "        f.write(state)\n",
    "\n",
    "###  theta < 2.5deg], distance < 0.25[deg], full overlapのやつ\n",
    "for i in range(len(columns_concat)):\n",
    "    if columns_concat[i] == \"distance\":\n",
    "        index_distance = i\n",
    "    if columns_concat[i] == \"theta\":\n",
    "        index_theta = i\n",
    "    if columns_concat[i] == \"percentage\":\n",
    "        index_percentage = i\n",
    "\n",
    "array_full_overlapping = np.delete(array_concat,np.where(array_concat[:,index_distance]>0.25),0)\n",
    "array_full_overlapping = np.delete(array_full_overlapping,np.where(array_full_overlapping[:,index_theta]>2.5),0)\n",
    "array_sim = np.delete(array_concat,np.where(array_concat[:,index_distance]>0.25),0)\n",
    "array_sim = np.delete(array_sim,np.where(array_sim[:,index_theta]>2.5),0)\n",
    "array_full_overlapping = np.delete(array_full_overlapping,np.where(array_full_overlapping[:,index_percentage]<100.),0)\n",
    "df_full_overlapping = pd.DataFrame(data=array_full_overlapping,columns=columns_concat)\n",
    "df_sim = pd.DataFrame(data=array_sim,columns=columns_concat)\n",
    "\n",
    "# G-band2V-band\n",
    "# V =  0.953*G +0.793\n",
    "df_main[\"v_band_abs_mag_meteor_coverted\"] = 0.953*df_main[\"g_band_abs_mag_meteor\"] +0.793\n",
    "df_sim[\"v_band_abs_mag_meteor_coverted\"] = 0.953*df_sim[\"g_band_abs_mag_meteor\"] +0.793\n",
    "df_full_overlapping[\"v_band_abs_mag_meteor_coverted\"] =0.953*df_full_overlapping[\"g_band_abs_mag_meteor\"] +0.793\n",
    "\n",
    "df_main.to_csv(\"simultaneous_event_candidates_table_MU+Tomo-e10.csv\")\n",
    "df_sim.to_csv(\"MU+Tomo-e_main.csv\") #同時流星\n",
    "df_full_overlapping.to_csv(\"simultaneous_event_candidates_table_MU+Tomo-e10_full.csv\") #同時流星&overlapping\n",
    "#class_width = 1. + np.log2(len(array_concat))\n",
    "#print class_width\n",
    "print \"Complete!\""
   ]
  },
  {
   "cell_type": "code",
   "execution_count": null,
   "metadata": {},
   "outputs": [],
   "source": []
  },
  {
   "cell_type": "code",
   "execution_count": 6,
   "metadata": {},
   "outputs": [
    {
     "name": "stdout",
     "output_type": "stream",
     "text": [
      "Complete!\n"
     ]
    }
   ],
   "source": [
    "import pandas as pd #サイズ焼き直し\n",
    "import numpy as np\n",
    "\n",
    "df_main = pd.read_csv(\"simultaneous_event_candidates_table_MU+Tomo-e10.csv\")\n",
    "df_mu = pd.read_csv(\"../../iccd_2018/MU_data_2009-2015.csv\")\n",
    "df_geminid = pd.read_csv(\"../../d_criterion/geminid.csv\")\n",
    "df_geminid2 = pd.read_csv(\"../../d_criterion/geminid(0.2).csv\")\n",
    "\n",
    "v_main = df_main[\"velocity\"]\n",
    "v_mu = df_mu[\"Geocentric_vel_(km_per_s)\"]\n",
    "v_geminid = df_geminid[\"Geocentric_vel_(km_per_s)\"]\n",
    "v_geminid2 = df_geminid2[\"Geocentric_vel_(km_per_s)\"]\n",
    "el_main = 90. - df_main[\"Zenith_angle_correction\"]\n",
    "el_mu = 90. - df_mu[\"Ze_of_start_point_(deg)\"]\n",
    "el_geminid = 90. - df_geminid[\"Ze_of_start_point_deg\"]\n",
    "el_geminid2 = 90. - df_geminid2[\"Ze_of_start_point_deg\"]\n",
    "\n",
    "# Y = -0.118*X + 4.944\n",
    "#RCS = -4.58*MAG+16.92 ⇨ MAG = RCS/(-4.58) + 16.92\n",
    "#df_main[\"mag_calculated\"] = -0.118*df_main[\"RCS_dBsm_at_max_SNR\"] + 4.944\n",
    "#df_mu[\"mag_calculated\"] = -0.118*df_mu[\"RCS\"] + 4.944\n",
    "#df_geminid[\"mag_calculated\"] = -0.118*df_geminid[\"RCS\"] + 4.944\n",
    "df_main[\"mag_calculated\"] = df_main[\"RCS_dBsm_at_max_SNR\"]/(-4.58) + 16.92/4.58\n",
    "df_mu[\"mag_calculated\"] = df_mu[\"RCS\"]/(-4.58) + 16.92/4.58\n",
    "df_geminid[\"mag_calculated\"] = df_geminid[\"RCS\"]/(-4.58) + 16.92/4.58\n",
    "df_geminid2[\"mag_calculated\"] = df_geminid[\"RCS\"]/(-4.58) + 16.92/4.58\n",
    "\n",
    "log_mass_grams_calculated_main = 6.31 - 0.4*df_main[\"mag_calculated\"] - 3.92*np.log10(v_main) -\\\n",
    "                                    0.41*np.log10(np.sin(np.deg2rad(el_main)))\n",
    "log_mass_grams_calculated_mu =6.31 - 0.4*df_mu[\"mag_calculated\"] - 3.92*np.log10(v_mu) -\\\n",
    "                                    0.41*np.log10(np.sin(np.deg2rad(el_mu)))\n",
    "log_mass_grams_calculated_geminid = 6.31 - 0.4*df_geminid[\"mag_calculated\"] - 3.92*np.log10(v_geminid) -\\\n",
    "                                    0.41*np.log10(np.sin(np.deg2rad(el_geminid)))\n",
    "log_mass_grams_calculated_geminid2 = 6.31 - 0.4*df_geminid2[\"mag_calculated\"] - 3.92*np.log10(v_geminid2) -\\\n",
    "                                    0.41*np.log10(np.sin(np.deg2rad(el_geminid2)))\n",
    "\n",
    "df_main[\"mass_grams_calculated\"] = np.power(10,log_mass_grams_calculated_main)\n",
    "df_mu[\"mass_grams_calculated\"] = np.power(10,log_mass_grams_calculated_mu)\n",
    "df_geminid[\"mass_grams_calculated\"] = np.power(10,log_mass_grams_calculated_geminid)\n",
    "df_geminid2[\"mass_grams_calculated\"] = np.power(10,log_mass_grams_calculated_geminid2)\n",
    "\n",
    "df_main.to_csv(\"simultaneous_event_candidates_table_MU+Tomo-e10.csv\")\n",
    "df_mu.to_csv(\"../../iccd_2018/MU_data_2009-2015.csv\")\n",
    "df_geminid.to_csv(\"../../d_criterion/geminid.csv\")\n",
    "df_geminid2.to_csv(\"../../d_criterion/geminid(0.2).csv\")\n",
    "print \"Complete!\""
   ]
  },
  {
   "cell_type": "code",
   "execution_count": null,
   "metadata": {},
   "outputs": [],
   "source": []
  },
  {
   "cell_type": "code",
   "execution_count": null,
   "metadata": {},
   "outputs": [],
   "source": []
  },
  {
   "cell_type": "code",
   "execution_count": null,
   "metadata": {},
   "outputs": [],
   "source": []
  }
 ],
 "metadata": {
  "kernelspec": {
   "display_name": "Python 2",
   "language": "python",
   "name": "python2"
  },
  "language_info": {
   "codemirror_mode": {
    "name": "ipython",
    "version": 2
   },
   "file_extension": ".py",
   "mimetype": "text/x-python",
   "name": "python",
   "nbconvert_exporter": "python",
   "pygments_lexer": "ipython2",
   "version": "2.7.10"
  }
 },
 "nbformat": 4,
 "nbformat_minor": 2
}
