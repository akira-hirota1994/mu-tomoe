{
 "cells": [
  {
   "cell_type": "code",
   "execution_count": 4,
   "metadata": {},
   "outputs": [
    {
     "name": "stdout",
     "output_type": "stream",
     "text": [
      "Complete!\n"
     ]
    }
   ],
   "source": [
    "import pandas as pd\n",
    "import numpy as np\n",
    "from IPython.display import clear_output\n",
    "import matplotlib.pyplot as plt\n",
    "from matplotlib.backends.backend_pdf import PdfPages\n",
    "import subprocess\n",
    "\n",
    "# quadra(しぶんぎ), perseids(ペルセウス),orionid(オリオン),draconids(りゅう座),leonid(しし),geminid(ふたご)\n",
    "meteor_stream = np.array([\"quadra\", \"perseids\", \"orionid\", \"draconids\", \"leonid\", \"geminid\"])\n",
    "a_1 = np.array([3.14, 71.4, 9.68, 3.02, 10.1, 1.372]) #Semi-major axis[au]\n",
    "q_1 = np.array([0.979, 0.953, 0.571, 0.996, 0.9853, 0.141]) #Perihelion distance[au]\n",
    "i_1 = np.array([72.0, 113.22, 164.2, 31.4, 162.36, 24.02]) #Inclination[deg]\n",
    "omega_1 = np.array([172.0, 151.3, 82.8, 172.9, 173.5, 324.42]) #Argument of perihelion[deg]\n",
    "Omega_1 = np.array([283.3, 140.19, 208.6, 196.4, 236.15, 261.49]) #Longitude of ascending node[deg]\n",
    "e_1 = 1 - q_1/a_1 #Eccentricity[-]\n",
    "#Dsh  添え字1がカタログ軌道、添え字2がmuレーダーの軌道\n",
    "df = pd.read_csv(\"MU_data_2009-2015.csv\")\n",
    "columns = df.columns\n",
    "array_df = df.values\n",
    "a_2 = df[\"Semimajor_axis_AU\"].values\n",
    "q_2 = df[\"Perihelion_dist_AU\"].values\n",
    "i_2 = df[\"Inclination_deg\"].values\n",
    "omega_2 = df[\"Argument_of_periapsis_deg\"].values\n",
    "omega_2 = np.deg2rad(omega_2)\n",
    "Omega_2_deg = df[\"Lon_of_asc_node_deg\"].values\n",
    "Omega_2 = np.deg2rad(Omega_2_deg)\n",
    "e_2 = df[\"Eccentricity\"].values\n",
    "index = []\n",
    "for j in range(len(a_2)):\n",
    "    iota_21 = np.arccos(np.cos(np.deg2rad(i_1[5]))*np.cos(np.deg2rad(i_2[j])) +\\\n",
    "                        np.sin(np.deg2rad(i_1[5]))*np.sin(np.deg2rad(i_2[j]))*\\\n",
    "                        np.cos(Omega_2[j] - np.deg2rad(Omega_1[5])))\n",
    "    if abs(Omega_2[j] - Omega_1[5]) > 180:\n",
    "        gamma = -1\n",
    "    elif abs(Omega_2[j] - Omega_1[5]) <= 180:\n",
    "        gamma = 1\n",
    "    pi_21 = omega_2[j] - np.deg2rad(omega_1[5]) +\\\n",
    "                      2*gamma*np.arcsin(np.cos((np.deg2rad(i_2[j]) + np.deg2rad(i_1[5]))/2)*\\\n",
    "                      np.sin((Omega_2[j] - np.deg2rad(Omega_1[5]))/2)/np.cos(iota_21/2))\n",
    "    Dsh2 = (np.deg2rad(e_2[j]) - np.deg2rad(e_1[5]))**2 + (q_2[j] - q_1[5])**2 +\\\n",
    "                     (2*np.sin(iota_21/2))**2 + (((e_1[5] + e_2[j])/2)**2)*\\\n",
    "                     ((2*np.sin(pi_21/2))**2)\n",
    "    Dsh = np.sqrt(Dsh2)\n",
    "    if Dsh < 0.1 :\n",
    "        index = np.hstack((index, j))\n",
    "index = index.astype(np.int64)\n",
    "array_df = array_df[index,:]\n",
    "df_output = pd.DataFrame(data=array_df, columns=columns)\n",
    "df_output.to_csv(\"geminid(0.1).csv\")\n",
    "print \"Complete!\""
   ]
  },
  {
   "cell_type": "code",
   "execution_count": null,
   "metadata": {},
   "outputs": [],
   "source": []
  },
  {
   "cell_type": "code",
   "execution_count": 5,
   "metadata": {},
   "outputs": [
    {
     "name": "stdout",
     "output_type": "stream",
     "text": [
      "Complete!\n"
     ]
    }
   ],
   "source": [
    "import pandas as pd\n",
    "import numpy as np\n",
    "from IPython.display import clear_output\n",
    "import matplotlib.pyplot as plt\n",
    "from matplotlib.backends.backend_pdf import PdfPages\n",
    "import subprocess\n",
    "\n",
    "df = pd.read_csv(\"geminid(0.1).csv\")\n",
    "a_2 = df[\"Semimajor_axis_AU\"].values\n",
    "q_2 = df[\"Perihelion_dist_AU\"].values\n",
    "i_2 = df[\"Inclination_deg\"].values\n",
    "i_2 = np.deg2rad(i_2)\n",
    "omega_2 = df[\"Argument_of_periapsis_deg\"].values\n",
    "omega_2 = np.deg2rad(omega_2)\n",
    "Omega_2_deg = df[\"Lon_of_asc_node_deg\"].values\n",
    "Omega_2 = np.deg2rad(Omega_2_deg)\n",
    "e_2 = df[\"Eccentricity\"].values\n",
    "f_angle = np.linspace(0, 6.3, num = 2000, endpoint = True)\n",
    "\n",
    "for index in range(len(a_2)):\n",
    "    r = []\n",
    "    x = []\n",
    "    y = []\n",
    "    file_name = \"meteor_orbit_\" + str(index) + \".txt\"\n",
    "    for i in f_angle:\n",
    "        r_2d = a_2[index]*(1. - e_2[index]**2.)/(1. + e_2[index]*np.cos(i))\n",
    "        x_2d = r_2d*np.cos(i)\n",
    "        y_2d = r_2d*np.sin(i)\n",
    "        r = np.hstack((r,r_2d))\n",
    "        x = np.hstack((x,x_2d))\n",
    "        y = np.hstack((y,y_2d))\n",
    "    X = x*(np.cos(Omega_2[index])*np.cos(omega_2[index]) - np.sin(Omega_2[index])*np.cos(i_2[index])*\\\n",
    "           np.sin(omega_2[index])) -y*(np.cos(Omega_2[index])*np.sin(omega_2[index]) +\\\n",
    "           np.sin(Omega_2[index])*np.cos(i_2[index])*np.cos(omega_2[index]))\n",
    "    \n",
    "    Y = x*(np.sin(Omega_2[index])*np.cos(omega_2[index]) + np.cos(Omega_2[index])*np.cos(i_2[index])*\\\n",
    "           np.sin(omega_2[index])) -y*(np.sin(Omega_2[index])*np.sin(omega_2[index]) - \\\n",
    "           np.cos(Omega_2[index])*np.cos(i_2[index])*np.cos(omega_2[index]))\n",
    "    \n",
    "    Z = x*(np.sin(i_2[index])*np.sin(omega_2[index])) + y*(np.sin(i_2[index])*np.cos(omega_2[index]))\n",
    "    position = np.vstack((X,Y,Z))\n",
    "    position = position.transpose()\n",
    "    with open(file_name, mode='w') as f:\n",
    "        for j in range(len(X)):\n",
    "            a = str(position[j,0]) + \" \" + str(position[j,1]) + \" \" + str(position[j,2]) +\"\\n\"\n",
    "            f.write(a)\n",
    "subprocess.call([\"mkdir d_txt\"], shell = True)\n",
    "subprocess.call([\"mv meteor_orbit_{0..1500}.txt d_txt/\"], shell = True)\n",
    "print \"Complete!\""
   ]
  },
  {
   "cell_type": "code",
   "execution_count": null,
   "metadata": {},
   "outputs": [],
   "source": []
  },
  {
   "cell_type": "code",
   "execution_count": 1,
   "metadata": {},
   "outputs": [
    {
     "name": "stdout",
     "output_type": "stream",
     "text": [
      "Complete!\n"
     ]
    }
   ],
   "source": [
    "import pandas as pd\n",
    "import numpy as np\n",
    "from IPython.display import clear_output\n",
    "import matplotlib.pyplot as plt\n",
    "from matplotlib.backends.backend_pdf import PdfPages\n",
    "import subprocess\n",
    "\n",
    "planet = np.array([\"mercury\", \"venus\", \"earth\", \"mars\", \"jupyter\", \"saturn\"])\n",
    "a_1 = np.array([0.38710, 0.72333, 1.0, 1.52368, 5.20260, 9.55491]) #Semi-major axis[au]\n",
    "e_1 = np.array([0.20563, 0.00677, 0.01671, 0.09340, 0.04850, 0.05555]) #Eccentricity[-]\n",
    "i_1 = np.array([7.0050, 3.3947, 0., 1.8497, 1.3033, 2.4889]) #Inclination[deg]\n",
    "i_1 = np.deg2rad(i_1)\n",
    "omega_1 = np.array([77.4561, 131.5637, 102.9373, 6.0602, 14.3312, 93.0572]) #Argument of perihelion[deg]\n",
    "omega_1 = np.deg2rad(omega_1) #336.0602 \n",
    "Omega_1 = np.array([48.3309, 76.6799, 0., 4.5581, 100.4644, 113.6655]) #Longitude of ascending node[deg]\n",
    "Omega_1 = np.deg2rad(Omega_1) #49.5581\n",
    "q_1 = a_1*(1. - e_1) #Perihelion distance[au]\n",
    "f_angle = np.linspace(0, 6.3, num = 2000, endpoint = True)\n",
    "\n",
    "for idx in range(len(a_1)):\n",
    "    r = []\n",
    "    x = []\n",
    "    y = []\n",
    "    file_name =  str(planet[idx]) + \".txt\"\n",
    "    for i in f_angle:\n",
    "        r_2d = a_1[idx]*(1. - e_1[idx]**2.)/(1. + e_1[idx]*np.cos(i))\n",
    "        x_2d = r_2d*np.cos(i)\n",
    "        y_2d = r_2d*np.sin(i)\n",
    "        r = np.hstack((r,r_2d))\n",
    "        x = np.hstack((x,x_2d))\n",
    "        y = np.hstack((y,y_2d))\n",
    "    X = x*(np.cos(Omega_1[idx])*np.cos(omega_1[idx]) - np.sin(Omega_1[idx])*np.cos(i_1[idx])*\\\n",
    "           np.sin(omega_1[idx])) -y*(np.cos(Omega_1[idx])*np.sin(omega_1[idx]) +\\\n",
    "           np.sin(Omega_1[idx])*np.cos(i_1[idx])*np.cos(omega_1[idx]))\n",
    "    \n",
    "    Y = x*(np.sin(Omega_1[idx])*np.cos(omega_1[idx]) + np.cos(Omega_1[idx])*np.cos(i_1[idx])*\\\n",
    "           np.sin(omega_1[idx])) -y*(np.sin(Omega_1[idx])*np.sin(omega_1[idx]) - \\\n",
    "           np.cos(Omega_1[idx])*np.cos(i_1[idx])*np.cos(omega_1[idx]))\n",
    "    \n",
    "    Z = x*(np.sin(i_1[idx])*np.sin(omega_1[idx])) + y*(np.sin(i_1[idx])*np.cos(omega_1[idx]))\n",
    "    position = np.vstack((X,Y,Z))\n",
    "    position = position.transpose()\n",
    "    with open(file_name, mode='w') as f:\n",
    "        for j in range(len(X)):\n",
    "            a = str(position[j,0]) + \" \" + str(position[j,1]) + \" \" + str(position[j,2]) +\"\\n\"\n",
    "            f.write(a)\n",
    "subprocess.call([\"mkdir d_planet\"], shell = True)\n",
    "subprocess.call([\"mv mercury.txt d_planet/\"], shell = True)\n",
    "subprocess.call([\"mv venus.txt d_planet/\"], shell = True)\n",
    "subprocess.call([\"mv mars.txt d_planet/\"], shell = True)\n",
    "subprocess.call([\"mv earth.txt d_planet/\"], shell = True)\n",
    "subprocess.call([\"mv jupyter.txt d_planet/\"], shell = True)\n",
    "subprocess.call([\"mv saturn.txt d_planet/\"], shell = True)\n",
    "print \"Complete!\""
   ]
  },
  {
   "cell_type": "code",
   "execution_count": null,
   "metadata": {},
   "outputs": [],
   "source": []
  }
 ],
 "metadata": {
  "kernelspec": {
   "display_name": "Python 2",
   "language": "python",
   "name": "python2"
  },
  "language_info": {
   "codemirror_mode": {
    "name": "ipython",
    "version": 2
   },
   "file_extension": ".py",
   "mimetype": "text/x-python",
   "name": "python",
   "nbconvert_exporter": "python",
   "pygments_lexer": "ipython2",
   "version": "2.7.10"
  }
 },
 "nbformat": 4,
 "nbformat_minor": 2
}
